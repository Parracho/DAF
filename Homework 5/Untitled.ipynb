{
 "cells": [
  {
   "cell_type": "code",
   "execution_count": 1,
   "id": "c4a2e149",
   "metadata": {},
   "outputs": [
    {
     "ename": "Set::partw",
     "evalue": "Part 11 of {{0, v, 0, 0, 0, 0, 0, 0, 0, 0}, {v, 0, 0, 0, 0, 0, 0, 0, 0, 0}, {0, 0, 0, v, 0, 0, 0, 0, 0, 0}, {0, 0, v, 0, 0, 0, 0, 0, 0, 0}, {0, 0, 0, 0, 0, v, 0, 0, 0, 0}, {0, 0, 0, 0, v, 0, 0, 0, 0, 0}, {0, 0, 0, 0, 0, 0, 0, v, 0, 0}, {0, 0, 0, 0, 0, 0, v, 0, 0, 0}, {0, 0, 0, 0, 0, 0, 0, 0, 0, v}, {0, 0, 0, 0, 0, 0, 0, 0, v, 0}} does not exist.",
     "output_type": "error",
     "traceback": [
      "\u001b[0;31mSet::partw: Part 11 of {{0, v, 0, 0, 0, 0, 0, 0, 0, 0}, {v, 0, 0, 0, 0, 0, 0, 0, 0, 0}, {0, 0, 0, v, 0, 0, 0, 0, 0, 0}, {0, 0, v, 0, 0, 0, 0, 0, 0, 0}, {0, 0, 0, 0, 0, v, 0, 0, 0, 0}, {0, 0, 0, 0, v, 0, 0, 0, 0, 0}, {0, 0, 0, 0, 0, 0, 0, v, 0, 0}, {0, 0, 0, 0, 0, 0, v, 0, 0, 0}, {0, 0, 0, 0, 0, 0, 0, 0, 0, v}, {0, 0, 0, 0, 0, 0, 0, 0, v, 0}} does not exist.\u001b[0m"
     ]
    },
    {
     "ename": "Set::partw",
     "evalue": "Part 12 of {{0, v, 0, 0, 0, 0, 0, 0, 0, 0}, {v, 0, 0, 0, 0, 0, 0, 0, 0, 0}, {0, 0, 0, v, 0, 0, 0, 0, 0, 0}, {0, 0, v, 0, 0, 0, 0, 0, 0, 0}, {0, 0, 0, 0, 0, v, 0, 0, 0, 0}, {0, 0, 0, 0, v, 0, 0, 0, 0, 0}, {0, 0, 0, 0, 0, 0, 0, v, 0, 0}, {0, 0, 0, 0, 0, 0, v, 0, 0, 0}, {0, 0, 0, 0, 0, 0, 0, 0, 0, v}, {0, 0, 0, 0, 0, 0, 0, 0, v, 0}} does not exist.",
     "output_type": "error",
     "traceback": [
      "\u001b[0;31mSet::partw: Part 12 of {{0, v, 0, 0, 0, 0, 0, 0, 0, 0}, {v, 0, 0, 0, 0, 0, 0, 0, 0, 0}, {0, 0, 0, v, 0, 0, 0, 0, 0, 0}, {0, 0, v, 0, 0, 0, 0, 0, 0, 0}, {0, 0, 0, 0, 0, v, 0, 0, 0, 0}, {0, 0, 0, 0, v, 0, 0, 0, 0, 0}, {0, 0, 0, 0, 0, 0, 0, v, 0, 0}, {0, 0, 0, 0, 0, 0, v, 0, 0, 0}, {0, 0, 0, 0, 0, 0, 0, 0, 0, v}, {0, 0, 0, 0, 0, 0, 0, 0, v, 0}} does not exist.\u001b[0m"
     ]
    },
    {
     "ename": "Set::partw",
     "evalue": "Part 13 of {{0, v, 0, 0, 0, 0, 0, 0, 0, 0}, {v, 0, 0, 0, 0, 0, 0, 0, 0, 0}, {0, 0, 0, v, 0, 0, 0, 0, 0, 0}, {0, 0, v, 0, 0, 0, 0, 0, 0, 0}, {0, 0, 0, 0, 0, v, 0, 0, 0, 0}, {0, 0, 0, 0, v, 0, 0, 0, 0, 0}, {0, 0, 0, 0, 0, 0, 0, v, 0, 0}, {0, 0, 0, 0, 0, 0, v, 0, 0, 0}, {0, 0, 0, 0, 0, 0, 0, 0, 0, v}, {0, 0, 0, 0, 0, 0, 0, 0, v, 0}} does not exist.",
     "output_type": "error",
     "traceback": [
      "\u001b[0;31mSet::partw: Part 13 of {{0, v, 0, 0, 0, 0, 0, 0, 0, 0}, {v, 0, 0, 0, 0, 0, 0, 0, 0, 0}, {0, 0, 0, v, 0, 0, 0, 0, 0, 0}, {0, 0, v, 0, 0, 0, 0, 0, 0, 0}, {0, 0, 0, 0, 0, v, 0, 0, 0, 0}, {0, 0, 0, 0, v, 0, 0, 0, 0, 0}, {0, 0, 0, 0, 0, 0, 0, v, 0, 0}, {0, 0, 0, 0, 0, 0, v, 0, 0, 0}, {0, 0, 0, 0, 0, 0, 0, 0, 0, v}, {0, 0, 0, 0, 0, 0, 0, 0, v, 0}} does not exist.\u001b[0m"
     ]
    },
    {
     "ename": "General::stop",
     "evalue": "Further output of Set::partw will be suppressed during this calculation.",
     "output_type": "error",
     "traceback": [
      "\u001b[0;31mGeneral::stop: Further output of Set::partw will be suppressed during this calculation.\u001b[0m"
     ]
    }
   ],
   "source": [
    "d=10;\n",
    "w=1;\n",
    "H=w*ConstantArray[0,{d,d}];\n",
    "For[n=1,n<d,n++, odd=2*n-1;even=2*n;H[[odd,even]]=v/w;H[[even,odd]]=v/w]\n",
    "For[n=1,n<d,n++, odd=2*n;even=2*n+1;H[[odd,even]]=1;H[[even,odd]]=1]"
   ]
  },
  {
   "cell_type": "code",
   "execution_count": 6,
   "id": "7e50dbab",
   "metadata": {},
   "outputs": [
    {
     "data": {
      "text/html": [
       "<div><img alt=\"Output\" src=\"data:image/png;base64,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\"></div>"
      ],
      "text/plain": [
       "0   v   0   0   0   0   0   0   0   0\n",
       "\n",
       "v   0   1   0   0   0   0   0   0   0\n",
       "\n",
       "0   1   0   v   0   0   0   0   0   0\n",
       "\n",
       "0   0   v   0   1   0   0   0   0   0\n",
       "\n",
       "0   0   0   1   0   v   0   0   0   0\n",
       "\n",
       "0   0   0   0   v   0   1   0   0   0\n",
       "\n",
       "0   0   0   0   0   1   0   v   0   0\n",
       "\n",
       "0   0   0   0   0   0   v   0   1   0\n",
       "\n",
       "0   0   0   0   0   0   0   1   0   v\n",
       "\n",
       "0   0   0   0   0   0   0   0   v   0"
      ]
     },
     "execution_count": 6,
     "metadata": {
      "text/html": [],
      "text/plain": []
     },
     "output_type": "execute_result"
    }
   ],
   "source": [
    "H //MatrixForm"
   ]
  },
  {
   "cell_type": "code",
   "execution_count": 7,
   "id": "bd2e3343",
   "metadata": {},
   "outputs": [
    {
     "ename": "Solve::naqs",
     "evalue": "   2        4        6        8      10        2  2        4  2         6  2        8  2        2  4         4  4         6  4        2  6         4  6        2  8    10\nlam  - 4 lam  + 6 lam  - 4 lam  + lam   + 2 lam  v  - 9 lam  v  + 12 lam  v  - 5 lam  v  + 3 lam  v  - 12 lam  v  + 10 lam  v  + 4 lam  v  - 10 lam  v  + 5 lam  v  - v   -> 0 is not a quantified system of equations and inequalities.",
     "output_type": "error",
     "traceback": [
      "\u001b[0;31m                2        4        6        8      10        2  2        4  2         6  2        8  2        2  4         4  4         6  4        2  6         4  6        2  8    10\nSolve::naqs: lam  - 4 lam  + 6 lam  - 4 lam  + lam   + 2 lam  v  - 9 lam  v  + 12 lam  v  - 5 lam  v  + 3 lam  v  - 12 lam  v  + 10 lam  v  + 4 lam  v  - 10 lam  v  + 5 lam  v  - v   -> 0 is not a quantified system of equations and inequalities.\u001b[0m"
     ]
    },
    {
     "data": {
      "text/html": [
       "<div><img alt=\"Output\" src=\"data:image/png;base64,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\"></div>"
      ],
      "text/plain": [
       "         2        4        6        8      10        2  2        4  2         6  2\n",
       "Solve[lam  - 4 lam  + 6 lam  - 4 lam  + lam   + 2 lam  v  - 9 lam  v  + 12 lam  v  - \n",
       " \n",
       "           8  2        2  4         4  4         6  4        2  6         4  6\n",
       ">     5 lam  v  + 3 lam  v  - 12 lam  v  + 10 lam  v  + 4 lam  v  - 10 lam  v  + \n",
       " \n",
       "           2  8    10\n",
       ">     5 lam  v  - v   -> 0, lam]"
      ]
     },
     "execution_count": 7,
     "metadata": {
      "text/html": [],
      "text/plain": []
     },
     "output_type": "execute_result"
    }
   ],
   "source": [
    "Solve[Det[H-lam*IdentityMatrix[10]]->0,lam]"
   ]
  },
  {
   "cell_type": "code",
   "execution_count": null,
   "id": "794b25fb",
   "metadata": {},
   "outputs": [],
   "source": []
  },
  {
   "cell_type": "code",
   "execution_count": null,
   "id": "5cad180e",
   "metadata": {},
   "outputs": [],
   "source": []
  }
 ],
 "metadata": {
  "hide_input": false,
  "kernelspec": {
   "display_name": "Wolfram Language 12.3",
   "language": "Wolfram Language",
   "name": "wolframlanguage12.3"
  },
  "language_info": {
   "codemirror_mode": "mathematica",
   "file_extension": ".m",
   "mimetype": "application/vnd.wolfram.m",
   "name": "Wolfram Language",
   "pygments_lexer": "mathematica",
   "version": "12.0"
  },
  "toc": {
   "base_numbering": 1,
   "nav_menu": {},
   "number_sections": true,
   "sideBar": true,
   "skip_h1_title": false,
   "title_cell": "Table of Contents",
   "title_sidebar": "Contents",
   "toc_cell": false,
   "toc_position": {},
   "toc_section_display": true,
   "toc_window_display": false
  },
  "varInspector": {
   "cols": {
    "lenName": 16,
    "lenType": 16,
    "lenVar": 40
   },
   "kernels_config": {
    "python": {
     "delete_cmd_postfix": "",
     "delete_cmd_prefix": "del ",
     "library": "var_list.py",
     "varRefreshCmd": "print(var_dic_list())"
    },
    "r": {
     "delete_cmd_postfix": ") ",
     "delete_cmd_prefix": "rm(",
     "library": "var_list.r",
     "varRefreshCmd": "cat(var_dic_list()) "
    }
   },
   "types_to_exclude": [
    "module",
    "function",
    "builtin_function_or_method",
    "instance",
    "_Feature"
   ],
   "window_display": false
  }
 },
 "nbformat": 4,
 "nbformat_minor": 5
}
