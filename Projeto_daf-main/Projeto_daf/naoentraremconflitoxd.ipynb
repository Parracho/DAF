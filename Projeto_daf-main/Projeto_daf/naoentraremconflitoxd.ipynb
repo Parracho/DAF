{
 "cells": [
  {
   "cell_type": "markdown",
   "metadata": {},
   "source": [
    "The Dijkstra's algorithm for shortest path, was conceived by computed scientist Edsger W. Dijkstra in 1956.\n",
    "The core idea behind it is optimazing the path to every vertice, and then set a target."
   ]
  },
  {
   "cell_type": "markdown",
   "metadata": {},
   "source": [
    "$S \\leftarrow \\{r\\}, T \\leftarrow \\emptyset$\n",
    "\n",
    "$p_r \\leftarrow 0, y_r \\leftarrow 0$\n",
    "\n",
    "$p_i \\leftarrow N_{IL}, y_i \\leftarrow \\infty \\textrm{ for all other } i$\n",
    "\n",
    "$\\textbf{while }S \\neq \\emptyset\\textbf{ do}$\n",
    "\n",
    "$|\\quad \\quad \\textrm{select a }i \\in S \\textrm{ minimizing } y_i$\n",
    "\n",
    "$|\\quad \\quad \\textbf{for }\\{ j\\in V:j \\notin T \\wedge (i,j) \\in E\\}\\textbf{ do}$\n",
    "\n",
    "$|\\quad \\quad |\\quad \\quad \\textbf{if } y_j>y_i+w_{ij}\\textbf{ then}$\n",
    "\n",
    "$|\\quad \\quad |\\quad \\quad |\\quad \\quad y_j  \\leftarrow y_i + w_{ij}, p_j \\leftarrow i$\n",
    "\n",
    "$|\\quad \\quad \\lfloor \\quad \\quad \\lfloor\\quad \\quad S \\leftarrow S \\cup \\{j\\}$\n",
    "\n",
    "$\\lfloor \\quad \\quad S \\leftarrow S\\setminus \\{i\\},T\\leftarrow T \\cup \\{i\\}$"
   ]
  },
  {
   "cell_type": "markdown",
   "metadata": {},
   "source": [
    "$y_r$ is the position of the source vertex, $r$, the vertex in which we begin our search\n",
    "and we say that it's \"cost\" (in this case distance) to every other vertex, $y_i$, is $\\infty$ because we \n",
    "haven't started looking yet so we don't know how far they are.\n",
    "\n",
    "Now we start looking at the neighbours near our $r$ and we look for the closest neighbour first, minimizing $y_i$.\n",
    "\n",
    "Looking at every vertice that has an edge to $i$, and checking if the distance to this vertice can be shorter than the one used initially, and updating $y_j$ everytime it finds a new shorter distance."
   ]
  }
 ],
 "metadata": {
  "hide_input": false,
  "kernelspec": {
   "display_name": "Python 3 (ipykernel)",
   "language": "python",
   "name": "python3"
  },
  "language_info": {
   "codemirror_mode": {
    "name": "ipython",
    "version": 3
   },
   "file_extension": ".py",
   "mimetype": "text/x-python",
   "name": "python",
   "nbconvert_exporter": "python",
   "pygments_lexer": "ipython3",
   "version": "3.9.7"
  },
  "toc": {
   "base_numbering": 1,
   "nav_menu": {},
   "number_sections": true,
   "sideBar": true,
   "skip_h1_title": false,
   "title_cell": "Table of Contents",
   "title_sidebar": "Contents",
   "toc_cell": false,
   "toc_position": {},
   "toc_section_display": true,
   "toc_window_display": false
  },
  "varInspector": {
   "cols": {
    "lenName": 16,
    "lenType": 16,
    "lenVar": 40
   },
   "kernels_config": {
    "python": {
     "delete_cmd_postfix": "",
     "delete_cmd_prefix": "del ",
     "library": "var_list.py",
     "varRefreshCmd": "print(var_dic_list())"
    },
    "r": {
     "delete_cmd_postfix": ") ",
     "delete_cmd_prefix": "rm(",
     "library": "var_list.r",
     "varRefreshCmd": "cat(var_dic_list()) "
    }
   },
   "types_to_exclude": [
    "module",
    "function",
    "builtin_function_or_method",
    "instance",
    "_Feature"
   ],
   "window_display": false
  }
 },
 "nbformat": 4,
 "nbformat_minor": 2
}
