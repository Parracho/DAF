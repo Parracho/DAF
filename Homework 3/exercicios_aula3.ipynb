{
 "cells": [
  {
   "cell_type": "markdown",
   "metadata": {},
   "source": [
    "# EXERCISES OF https://qiskit.org/textbook/"
   ]
  },
  {
   "cell_type": "markdown",
   "metadata": {},
   "source": [
    "# Representing Qubit States\n",
    "\n",
    "Q. Use `plot_bloch_sphere_spherical()` to plot a qubit in the states:\n",
    "\n",
    "- $|0\\rangle$: \n",
    "- $|1\\rangle$: \n",
    "- $\\tfrac{1}{\\sqrt{2}}(|0\\rangle + |1\\rangle)$: \n",
    "- $\\tfrac{1}{\\sqrt{2}}(|0\\rangle - |1\\rangle)$: \n",
    "- $\\tfrac{1}{\\sqrt{2}}(i|0\\rangle + |1\\rangle)$: "
   ]
  },
  {
   "cell_type": "markdown",
   "metadata": {},
   "source": [
    "# Single Qubit Gates\n",
    "\n",
    "\n",
    "1. Verify that |+⟩ and |−⟩ are in fact eigenstates of the X-gate, where\n",
    "\n",
    "$$ H|0\\rangle = |+\\rangle $$\n",
    "\n",
    "$$ H|1\\rangle = |-\\rangle $$\n",
    "\n",
    "2. What eigenvalues of the X-gate do they have?\n",
    "\n",
    "3. Why would we not see these eigenvalues appear on the Bloch sphere?\n",
    "\n",
    "4. Find the eigenstates of the Y-gate, and their co-ordinates on the Bloch sphere.\n",
    "\n",
    "5. Write the H-gate as the outer products of vectors |0⟩, |1⟩, |+⟩ and |−⟩\n",
    "\n",
    "6. Show that applying the sequence of gates: HZH, to any qubit state is equivalent to applying an X-gate\n",
    "\n",
    "7. Find a combination of X, Z and H-gates that is equivalent to a Y-gate (ignoring global phase)\n"
   ]
  },
  {
   "cell_type": "markdown",
   "metadata": {},
   "source": [
    "# Qiskit \n",
    "1. Use Qiskit to display the probability of measuring a |0⟩ qubit in the states |+⟩ and |−⟩ (Hint: you might want to use `.get_counts()` and `plot_histogram()`).\n",
    "\n",
    "2. Try to create a function that measures in the Y-basis\n",
    "\n",
    "that is, we want a gate the performs the transformation:\n",
    "\n",
    "$$ \\tfrac{1}{\\sqrt{2}}\\begin{bmatrix} 1 \\\\ i \\end{bmatrix} \\rightarrow \\begin{bmatrix} 1 \\\\ 0 \\end{bmatrix}$$\n",
    "\n",
    "$$ \\tfrac{1}{\\sqrt{2}}\\begin{bmatrix} 1 \\\\ -i \\end{bmatrix} \\rightarrow \\begin{bmatrix} 0 \\\\ 1 \\end{bmatrix}$$\n",
    "\n",
    "3. Calculate the single qubit unitary (𝑈) created by the sequence of gates: 𝑈=𝑋𝑍𝐻. Use Qiskit's unitary simulator to check your results."
   ]
  },
  {
   "cell_type": "markdown",
   "metadata": {},
   "source": [
    "## Phase Kickback\n",
    "\n",
    "[https://qiskit.org/textbook/ch-gates/phase-kickback.html](https://qiskit.org/textbook/ch-gates/phase-kickback.html)\n",
    "\n",
    "Q. What would be the resulting state of the control qubit (q0) if the target qubit (q1) was in the state |0⟩? Use Qiskit to check your answer."
   ]
  },
  {
   "cell_type": "code",
   "execution_count": null,
   "metadata": {},
   "outputs": [],
   "source": []
  }
 ],
 "metadata": {
  "hide_input": false,
  "kernelspec": {
   "display_name": "Python 3 (ipykernel)",
   "language": "python",
   "name": "python3"
  },
  "language_info": {
   "codemirror_mode": {
    "name": "ipython",
    "version": 3
   },
   "file_extension": ".py",
   "mimetype": "text/x-python",
   "name": "python",
   "nbconvert_exporter": "python",
   "pygments_lexer": "ipython3",
   "version": "3.9.7"
  },
  "toc": {
   "base_numbering": 1,
   "nav_menu": {},
   "number_sections": true,
   "sideBar": true,
   "skip_h1_title": false,
   "title_cell": "Table of Contents",
   "title_sidebar": "Contents",
   "toc_cell": false,
   "toc_position": {},
   "toc_section_display": true,
   "toc_window_display": false
  },
  "varInspector": {
   "cols": {
    "lenName": 16,
    "lenType": 16,
    "lenVar": 40
   },
   "kernels_config": {
    "python": {
     "delete_cmd_postfix": "",
     "delete_cmd_prefix": "del ",
     "library": "var_list.py",
     "varRefreshCmd": "print(var_dic_list())"
    },
    "r": {
     "delete_cmd_postfix": ") ",
     "delete_cmd_prefix": "rm(",
     "library": "var_list.r",
     "varRefreshCmd": "cat(var_dic_list()) "
    }
   },
   "types_to_exclude": [
    "module",
    "function",
    "builtin_function_or_method",
    "instance",
    "_Feature"
   ],
   "window_display": false
  }
 },
 "nbformat": 4,
 "nbformat_minor": 4
}
